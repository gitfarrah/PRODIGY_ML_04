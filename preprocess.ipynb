{
 "cells": [
  {
   "cell_type": "code",
   "execution_count": 16,
   "metadata": {},
   "outputs": [],
   "source": [
    "import os\n",
    "import shutil"
   ]
  },
  {
   "cell_type": "code",
   "execution_count": 2,
   "metadata": {},
   "outputs": [],
   "source": [
    "newFolder = ['01_palm', '02_l', '03_fist', '04_fist_moved',\n",
    "              '05_thumb', '06_index', '07_ok', '08_palm_moved', '09_c', '10_down']\n"
   ]
  },
  {
   "cell_type": "code",
   "execution_count": 3,
   "metadata": {},
   "outputs": [
    {
     "name": "stdout",
     "output_type": "stream",
     "text": [
      "Folder 'Data\\01_palm' created successfully.\n",
      "Folder 'Data\\02_l' created successfully.\n",
      "Folder 'Data\\03_fist' created successfully.\n",
      "Folder 'Data\\04_fist_moved' created successfully.\n",
      "Folder 'Data\\05_thumb' created successfully.\n",
      "Folder 'Data\\06_index' created successfully.\n",
      "Folder 'Data\\07_ok' created successfully.\n",
      "Folder 'Data\\08_palm_moved' created successfully.\n",
      "Folder 'Data\\09_c' created successfully.\n",
      "Folder 'Data\\10_down' created successfully.\n"
     ]
    }
   ],
   "source": [
    "for fl in newFolder:\n",
    "    folder_path = os.path.join(\"Data\", fl)\n",
    "    # Check if the folder already exists\n",
    "    if not os.path.exists(folder_path):\n",
    "        # Create the folder\n",
    "        os.makedirs(folder_path)\n",
    "        print(f\"Folder '{folder_path}' created successfully.\")\n",
    "    else:\n",
    "        print(f\"Folder '{folder_path}' already exists.\")"
   ]
  },
  {
   "cell_type": "code",
   "execution_count": 11,
   "metadata": {},
   "outputs": [
    {
     "data": {
      "text/plain": [
       "['00', '01', '02', '03', '04', '05', '06', '07', '08', '09']"
      ]
     },
     "execution_count": 11,
     "metadata": {},
     "output_type": "execute_result"
    }
   ],
   "source": [
    "main_path = \"Hand Gesture Data\"\n",
    "ls_subfolder = os.listdir(main_path)\n",
    "ls_subfolder"
   ]
  },
  {
   "cell_type": "code",
   "execution_count": 21,
   "metadata": {},
   "outputs": [],
   "source": [
    "for fl in ls_subfolder:\n",
    "    paths_ls = os.path.join(main_path, fl)\n",
    "    cls_name = os.listdir(paths_ls)\n",
    "    # print(cls_name)\n",
    "    for clss in cls_name:\n",
    "        paths = os.path.join(paths_ls, clss)\n",
    "        # print(paths)\n",
    "        img = os.listdir(paths)\n",
    "        destination_path = os.path.join(\"Data\", clss)\n",
    "        for im in img:\n",
    "            img_path = os.path.join(paths, im)\n",
    "            shutil.move(img_path,destination_path)\n",
    "       "
   ]
  }
 ],
 "metadata": {
  "kernelspec": {
   "display_name": "Python 3",
   "language": "python",
   "name": "python3"
  },
  "language_info": {
   "codemirror_mode": {
    "name": "ipython",
    "version": 3
   },
   "file_extension": ".py",
   "mimetype": "text/x-python",
   "name": "python",
   "nbconvert_exporter": "python",
   "pygments_lexer": "ipython3",
   "version": "3.10.4"
  },
  "orig_nbformat": 4
 },
 "nbformat": 4,
 "nbformat_minor": 2
}
